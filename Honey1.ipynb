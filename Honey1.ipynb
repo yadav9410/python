{
  "nbformat": 4,
  "nbformat_minor": 0,
  "metadata": {
    "colab": {
      "provenance": []
    },
    "kernelspec": {
      "name": "python3",
      "display_name": "Python 3"
    },
    "language_info": {
      "name": "python"
    }
  },
  "cells": [
    {
      "cell_type": "code",
      "execution_count": 15,
      "metadata": {
        "id": "spJfbo0RyvgS",
        "colab": {
          "base_uri": "https://localhost:8080/"
        },
        "outputId": "a904bde0-4e30-42aa-b1c3-f479d855a30f"
      },
      "outputs": [
        {
          "output_type": "stream",
          "name": "stdout",
          "text": [
            "Newly Created array: \n",
            "1 3 5 7 9 11 "
          ]
        }
      ],
      "source": [
        "#importing array for array operation\n",
        "import array\n",
        "#initializing array with array values\n",
        "arr = array.array('l', [1,3,5,7,9,11,13])\n",
        "#print(Original array)\n",
        "print(\"Newly Created array: \")\n",
        "for l in range (0,6):\n",
        "  print (arr[l],end = \" \")\n",
        "\n",
        "\n",
        ""
      ]
    },
    {
      "cell_type": "code",
      "source": [
        "import pandas as pd\n",
        "#directory of lists\n",
        "dict = {'name':[\"Honey\",\"Shaurya\",\"yadav\",\"lamrin\"],\n",
        "'age':[\"28\",\"39\",\"34\",\"36\"]}\n",
        "info = pd.DataFrame(dict, index =[True, True, False, True])\n",
        "print(info)"
      ],
      "metadata": {
        "colab": {
          "base_uri": "https://localhost:8080/"
        },
        "id": "4vhoQACf_LAD",
        "outputId": "4b12c88a-f071-4ba8-8fbd-3d09359358ca"
      },
      "execution_count": 17,
      "outputs": [
        {
          "output_type": "stream",
          "name": "stdout",
          "text": [
            "          name age\n",
            "True     Honey  28\n",
            "True   Shaurya  39\n",
            "False    yadav  34\n",
            "True    lamrin  36\n"
          ]
        }
      ]
    },
    {
      "cell_type": "code",
      "source": [
        "import pandas as pd\n",
        "dict ={'name':[\"Honey\",\"Shaurya\",\"Yadav\",\"Lamrin\"],'age':[\"28\",\"29\",\"44,\",\"45\"]}\n",
        "info = pd.DataFrame(dict, index = [True,True,False,True])\n",
        "# accessing a dataframe using .loc\n",
        "print(info.loc[True])"
      ],
      "metadata": {
        "colab": {
          "base_uri": "https://localhost:8080/"
        },
        "id": "Kzk5hJJpC-yC",
        "outputId": "322cdf39-e147-419b-b3c2-836845807cd3"
      },
      "execution_count": 18,
      "outputs": [
        {
          "output_type": "stream",
          "name": "stdout",
          "text": [
            "         name age\n",
            "True    Honey  28\n",
            "True  Shaurya  29\n",
            "True   Lamrin  45\n"
          ]
        }
      ]
    },
    {
      "cell_type": "code",
      "source": [
        "import numpy as np\n",
        "arr = np.arange(16)\n",
        "print(\"The Original array is: \\n\",arr)\n",
        "arr =np.arange(16).reshape(8 ,2)\n",
        "print(\"\\nreshaped array: \\n\",arr)\n",
        "# shape array with 2 r and 8 coloumns\n",
        "arr = np.arange(16).reshape(8 ,2)\n",
        "print(\"\\nreshaped array: \\n\", arr)"
      ],
      "metadata": {
        "colab": {
          "base_uri": "https://localhost:8080/"
        },
        "id": "fKD08EZbFkqL",
        "outputId": "c4105117-f913-41fa-aac8-c49ca437aa8e"
      },
      "execution_count": 19,
      "outputs": [
        {
          "output_type": "stream",
          "name": "stdout",
          "text": [
            "The Original array is: \n",
            " [ 0  1  2  3  4  5  6  7  8  9 10 11 12 13 14 15]\n",
            "\n",
            "reshaped array: \n",
            " [[ 0  1]\n",
            " [ 2  3]\n",
            " [ 4  5]\n",
            " [ 6  7]\n",
            " [ 8  9]\n",
            " [10 11]\n",
            " [12 13]\n",
            " [14 15]]\n",
            "\n",
            "reshaped array: \n",
            " [[ 0  1]\n",
            " [ 2  3]\n",
            " [ 4  5]\n",
            " [ 6  7]\n",
            " [ 8  9]\n",
            " [10 11]\n",
            " [12 13]\n",
            " [14 15]]\n"
          ]
        }
      ]
    }
  ]
}